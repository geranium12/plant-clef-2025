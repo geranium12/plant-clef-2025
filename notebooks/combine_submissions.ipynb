{
 "cells": [
  {
   "cell_type": "code",
   "execution_count": 1,
   "id": "9fc73fc7",
   "metadata": {},
   "outputs": [],
   "source": [
    "submission_files = [\n",
    "    \"./submission_5h1l_tile_4_5_overlaps_0_0_topk_1_minscore_002_topn_10_use_gf_crop_010.csv\",\n",
    "    \"./submission_5heads_2layers_ckpt_ep2_it4000_tile_5_overlaps_0_topk_1_minscore_001_use_gf.csv\",\n",
    "]\n",
    "\n",
    "submission_name = \"032760_036590_5h1l_tile_4_5_overlaps_0_0_topk_1_minscore_002_topn_10_use_gf_crop_010_and_5heads_2layers_ckpt_ep2_it4000_tile_5_overlaps_0_topk_1_minscore_001_use_gf\""
   ]
  },
  {
   "cell_type": "code",
   "execution_count": 2,
   "id": "83b3701c",
   "metadata": {},
   "outputs": [],
   "source": [
    "from collections import defaultdict\n",
    "import csv\n",
    "import pandas as pd\n",
    "import ast\n",
    "\n",
    "# Load submission files into DataFrames\n",
    "dfs = [\n",
    "    pd.read_csv(file, converters={\"species_ids\": ast.literal_eval})\n",
    "    for file in submission_files\n",
    "]\n",
    "\n",
    "predictions: dict[str, set] = defaultdict(set)\n",
    "for df in dfs:\n",
    "    for quadrat_id, species_ids in zip(df[\"quadrat_id\"], df[\"species_ids\"]):\n",
    "        for species_id in species_ids:\n",
    "            predictions[quadrat_id].add(species_id)\n",
    "\n",
    "df_run = pd.DataFrame(\n",
    "    list(predictions.items()),\n",
    "    columns=[\n",
    "        \"quadrat_id\",\n",
    "        \"species_ids\",\n",
    "    ],\n",
    ")\n",
    "df_run[\"species_ids\"] = df_run[\"species_ids\"].apply(list).apply(str)\n",
    "df_run.to_csv(\n",
    "    f\"unions_{submission_name}.csv\",\n",
    "    sep=\",\",\n",
    "    index=False,\n",
    "    quoting=csv.QUOTE_ALL,\n",
    ")"
   ]
  },
  {
   "cell_type": "code",
   "execution_count": 3,
   "id": "2cfcbc2f",
   "metadata": {},
   "outputs": [],
   "source": [
    "# Compute the intersection of species_ids for each quadrat_id\n",
    "intersections: dict[str, set] = defaultdict(set)\n",
    "\n",
    "# Initialize intersections with the species_ids from the first DataFrame\n",
    "for quadrat_id, species_ids in zip(dfs[0][\"quadrat_id\"], dfs[0][\"species_ids\"]):\n",
    "    intersections[quadrat_id] = set(species_ids)\n",
    "\n",
    "# Perform intersection with the species_ids from the remaining DataFrames\n",
    "for df in dfs[1:]:\n",
    "    for quadrat_id, species_ids in zip(df[\"quadrat_id\"], df[\"species_ids\"]):\n",
    "        intersections[quadrat_id] &= set(species_ids)\n",
    "\n",
    "# Convert the intersections dictionary to a DataFrame\n",
    "df_intersection = pd.DataFrame(\n",
    "    list(intersections.items()),\n",
    "    columns=[\n",
    "        \"quadrat_id\",\n",
    "        \"species_ids\",\n",
    "    ],\n",
    ")\n",
    "df_intersection[\"species_ids\"] = df_intersection[\"species_ids\"].apply(list).apply(str)\n",
    "df_intersection.to_csv(\n",
    "    f\"intersections_{submission_name}.csv\",\n",
    "    sep=\",\",\n",
    "    index=False,\n",
    "    quoting=csv.QUOTE_ALL,\n",
    ")"
   ]
  }
 ],
 "metadata": {
  "kernelspec": {
   "display_name": ".venv",
   "language": "python",
   "name": "python3"
  },
  "language_info": {
   "codemirror_mode": {
    "name": "ipython",
    "version": 3
   },
   "file_extension": ".py",
   "mimetype": "text/x-python",
   "name": "python",
   "nbconvert_exporter": "python",
   "pygments_lexer": "ipython3",
   "version": "3.12.9"
  }
 },
 "nbformat": 4,
 "nbformat_minor": 5
}
