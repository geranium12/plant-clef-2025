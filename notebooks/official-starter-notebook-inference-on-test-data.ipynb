{
 "cells": [
  {
   "cell_type": "markdown",
   "metadata": {},
   "source": "# Official Starter notebook | Dinov2 Model Inference"
  },
  {
   "cell_type": "markdown",
   "metadata": {},
   "source": "## Introduction\nThe purpose of this notebook is to serve as a baseline entry for the competition, and as a guidance on how to infer the available trained models on quadrat test images. \nThe DinoV2-based plant identification model provided in the competition is applied to the entire image of each quadrat in the test set, which has been resized to the original input dimensions of 518x518 used to train DinoV2.\nThis notebook can be used as a starting point for further development. Feel free to leave comments on errors or for any improvement."
  },
  {
   "cell_type": "markdown",
   "metadata": {},
   "source": "### Import libraries"
  },
  {
   "cell_type": "code",
   "execution_count": 1,
   "metadata": {
    "_cell_guid": "b1076dfc-b9ad-4769-8c92-a6c4dae69d19",
    "_uuid": "8f2839f25d086af736a60e9eeb907d3b93b6e0e5",
    "execution": {
     "iopub.execute_input": "2025-03-11T10:50:09.787425Z",
     "iopub.status.busy": "2025-03-11T10:50:09.787038Z",
     "iopub.status.idle": "2025-03-11T10:50:15.361743Z",
     "shell.execute_reply": "2025-03-11T10:50:15.360831Z",
     "shell.execute_reply.started": "2025-03-11T10:50:09.787383Z"
    },
    "trusted": true
   },
   "outputs": [],
   "source": [
    "import csv\n",
    "import numpy as np\n",
    "import pandas as pd\n",
    "import timm\n",
    "import torch\n",
    "from PIL import Image\n",
    "from torch.utils.data import DataLoader, Dataset\n",
    "import logging\n",
    "import time\n",
    "import os\n",
    "\n",
    "logging.basicConfig(level=logging.INFO, handlers=[logging.StreamHandler()])\n",
    "_logger = logging.getLogger(\"inference\")"
   ]
  },
  {
   "cell_type": "code",
   "execution_count": 2,
   "metadata": {
    "execution": {
     "iopub.execute_input": "2025-03-11T10:50:15.363216Z",
     "iopub.status.busy": "2025-03-11T10:50:15.362900Z",
     "iopub.status.idle": "2025-03-11T10:50:15.369240Z",
     "shell.execute_reply": "2025-03-11T10:50:15.368403Z",
     "shell.execute_reply.started": "2025-03-11T10:50:15.363188Z"
    },
    "trusted": true
   },
   "outputs": [],
   "source": [
    "class AverageMeter:\n",
    "    def __init__(self):\n",
    "        self.val = 0\n",
    "        self.avg = 0\n",
    "        self.sum = 0\n",
    "        self.count = 0\n",
    "\n",
    "    def update(self, val, n=1):\n",
    "        self.val = val\n",
    "        self.sum += val * n\n",
    "        self.count += n\n",
    "        self.avg = self.sum / self.count\n",
    "\n",
    "\n",
    "class TestDataset(Dataset):\n",
    "    def __init__(self, image_folder, transform=None):\n",
    "        self.image_folder = image_folder\n",
    "        self.image_paths = [\n",
    "            os.path.join(image_folder, f) for f in os.listdir(image_folder)\n",
    "        ]\n",
    "        self.transform = transform\n",
    "\n",
    "    def __len__(self):\n",
    "        return len(self.image_paths)\n",
    "\n",
    "    def __getitem__(self, idx):\n",
    "        image_path = self.image_paths[idx]\n",
    "        image = Image.open(image_path)\n",
    "\n",
    "        if self.transform:\n",
    "            image = self.transform(image)\n",
    "\n",
    "        return image, image_path"
   ]
  },
  {
   "cell_type": "markdown",
   "metadata": {},
   "source": "Load species competition metadata"
  },
  {
   "cell_type": "code",
   "execution_count": 3,
   "metadata": {
    "execution": {
     "iopub.execute_input": "2025-03-11T10:50:15.371324Z",
     "iopub.status.busy": "2025-03-11T10:50:15.371042Z",
     "iopub.status.idle": "2025-03-11T10:50:36.112003Z",
     "shell.execute_reply": "2025-03-11T10:50:36.111029Z",
     "shell.execute_reply.started": "2025-03-11T10:50:15.371305Z"
    },
    "trusted": true
   },
   "outputs": [
    {
     "data": {
      "text/html": "<div>\n<style scoped>\n    .dataframe tbody tr th:only-of-type {\n        vertical-align: middle;\n    }\n\n    .dataframe tbody tr th {\n        vertical-align: top;\n    }\n\n    .dataframe thead th {\n        text-align: right;\n    }\n</style>\n<table border=\"1\" class=\"dataframe\">\n  <thead>\n    <tr style=\"text-align: right;\">\n      <th></th>\n      <th>image_name</th>\n      <th>organ</th>\n      <th>species_id</th>\n      <th>obs_id</th>\n      <th>license</th>\n      <th>partner</th>\n      <th>author</th>\n      <th>altitude</th>\n      <th>latitude</th>\n      <th>longitude</th>\n      <th>gbif_species_id</th>\n      <th>species</th>\n      <th>genus</th>\n      <th>family</th>\n      <th>dataset</th>\n      <th>publisher</th>\n      <th>references</th>\n      <th>url</th>\n      <th>learn_tag</th>\n      <th>image_backup_url</th>\n    </tr>\n  </thead>\n  <tbody>\n    <tr>\n      <th>0</th>\n      <td>59feabe1c98f06e7f819f73c8246bd8f1a89556b.jpg</td>\n      <td>leaf</td>\n      <td>1396710</td>\n      <td>1008726402</td>\n      <td>cc-by-sa</td>\n      <td>NaN</td>\n      <td>Gulyás Bálint</td>\n      <td>205.9261</td>\n      <td>47.592160</td>\n      <td>19.362895</td>\n      <td>5284517.0</td>\n      <td>Taxus baccata L.</td>\n      <td>Taxus</td>\n      <td>Taxaceae</td>\n      <td>plantnet</td>\n      <td>plantnet</td>\n      <td>https://identify.plantnet.org/fr/k-southwester...</td>\n      <td>https://bs.plantnet.org/image/o/59feabe1c98f06...</td>\n      <td>train</td>\n      <td>https://lab.plantnet.org/LifeCLEF/PlantCLEF202...</td>\n    </tr>\n    <tr>\n      <th>1</th>\n      <td>dc273995a89827437d447f29a52ccac86f65476e.jpg</td>\n      <td>leaf</td>\n      <td>1396710</td>\n      <td>1008724195</td>\n      <td>cc-by-sa</td>\n      <td>NaN</td>\n      <td>vadim sigaud</td>\n      <td>323.7520</td>\n      <td>47.906703</td>\n      <td>7.201746</td>\n      <td>5284517.0</td>\n      <td>Taxus baccata L.</td>\n      <td>Taxus</td>\n      <td>Taxaceae</td>\n      <td>plantnet</td>\n      <td>plantnet</td>\n      <td>https://identify.plantnet.org/fr/k-southwester...</td>\n      <td>https://bs.plantnet.org/image/o/dc273995a89827...</td>\n      <td>train</td>\n      <td>https://lab.plantnet.org/LifeCLEF/PlantCLEF202...</td>\n    </tr>\n    <tr>\n      <th>2</th>\n      <td>416235e7023a4bd1513edf036b6097efc693a304.jpg</td>\n      <td>leaf</td>\n      <td>1396710</td>\n      <td>1008721908</td>\n      <td>cc-by-sa</td>\n      <td>NaN</td>\n      <td>fil escande</td>\n      <td>101.3160</td>\n      <td>48.826774</td>\n      <td>2.352774</td>\n      <td>5284517.0</td>\n      <td>Taxus baccata L.</td>\n      <td>Taxus</td>\n      <td>Taxaceae</td>\n      <td>plantnet</td>\n      <td>plantnet</td>\n      <td>https://identify.plantnet.org/fr/k-southwester...</td>\n      <td>https://bs.plantnet.org/image/o/416235e7023a4b...</td>\n      <td>train</td>\n      <td>https://lab.plantnet.org/LifeCLEF/PlantCLEF202...</td>\n    </tr>\n    <tr>\n      <th>3</th>\n      <td>cbd18fade82c46a5c725f1f3d982174895158afc.jpg</td>\n      <td>leaf</td>\n      <td>1396710</td>\n      <td>1008699177</td>\n      <td>cc-by-sa</td>\n      <td>NaN</td>\n      <td>Desiree Verver</td>\n      <td>5.1070</td>\n      <td>52.190427</td>\n      <td>6.009677</td>\n      <td>5284517.0</td>\n      <td>Taxus baccata L.</td>\n      <td>Taxus</td>\n      <td>Taxaceae</td>\n      <td>plantnet</td>\n      <td>plantnet</td>\n      <td>https://identify.plantnet.org/fr/k-southwester...</td>\n      <td>https://bs.plantnet.org/image/o/cbd18fade82c46...</td>\n      <td>train</td>\n      <td>https://lab.plantnet.org/LifeCLEF/PlantCLEF202...</td>\n    </tr>\n    <tr>\n      <th>4</th>\n      <td>f82c8c6d570287ebed8407cefcfcb2a51eaaf56e.jpg</td>\n      <td>leaf</td>\n      <td>1396710</td>\n      <td>1008683100</td>\n      <td>cc-by-sa</td>\n      <td>NaN</td>\n      <td>branebrane</td>\n      <td>165.3390</td>\n      <td>45.794739</td>\n      <td>15.965862</td>\n      <td>5284517.0</td>\n      <td>Taxus baccata L.</td>\n      <td>Taxus</td>\n      <td>Taxaceae</td>\n      <td>plantnet</td>\n      <td>plantnet</td>\n      <td>https://identify.plantnet.org/fr/k-southwester...</td>\n      <td>https://bs.plantnet.org/image/o/f82c8c6d570287...</td>\n      <td>train</td>\n      <td>https://lab.plantnet.org/LifeCLEF/PlantCLEF202...</td>\n    </tr>\n  </tbody>\n</table>\n</div>",
      "text/plain": "                                     image_name organ  species_id      obs_id  \\\n0  59feabe1c98f06e7f819f73c8246bd8f1a89556b.jpg  leaf     1396710  1008726402   \n1  dc273995a89827437d447f29a52ccac86f65476e.jpg  leaf     1396710  1008724195   \n2  416235e7023a4bd1513edf036b6097efc693a304.jpg  leaf     1396710  1008721908   \n3  cbd18fade82c46a5c725f1f3d982174895158afc.jpg  leaf     1396710  1008699177   \n4  f82c8c6d570287ebed8407cefcfcb2a51eaaf56e.jpg  leaf     1396710  1008683100   \n\n    license partner          author  altitude   latitude  longitude  \\\n0  cc-by-sa     NaN   Gulyás Bálint  205.9261  47.592160  19.362895   \n1  cc-by-sa     NaN    vadim sigaud  323.7520  47.906703   7.201746   \n2  cc-by-sa     NaN     fil escande  101.3160  48.826774   2.352774   \n3  cc-by-sa     NaN  Desiree Verver    5.1070  52.190427   6.009677   \n4  cc-by-sa     NaN      branebrane  165.3390  45.794739  15.965862   \n\n   gbif_species_id           species  genus    family   dataset publisher  \\\n0        5284517.0  Taxus baccata L.  Taxus  Taxaceae  plantnet  plantnet   \n1        5284517.0  Taxus baccata L.  Taxus  Taxaceae  plantnet  plantnet   \n2        5284517.0  Taxus baccata L.  Taxus  Taxaceae  plantnet  plantnet   \n3        5284517.0  Taxus baccata L.  Taxus  Taxaceae  plantnet  plantnet   \n4        5284517.0  Taxus baccata L.  Taxus  Taxaceae  plantnet  plantnet   \n\n                                          references  \\\n0  https://identify.plantnet.org/fr/k-southwester...   \n1  https://identify.plantnet.org/fr/k-southwester...   \n2  https://identify.plantnet.org/fr/k-southwester...   \n3  https://identify.plantnet.org/fr/k-southwester...   \n4  https://identify.plantnet.org/fr/k-southwester...   \n\n                                                 url learn_tag  \\\n0  https://bs.plantnet.org/image/o/59feabe1c98f06...     train   \n1  https://bs.plantnet.org/image/o/dc273995a89827...     train   \n2  https://bs.plantnet.org/image/o/416235e7023a4b...     train   \n3  https://bs.plantnet.org/image/o/cbd18fade82c46...     train   \n4  https://bs.plantnet.org/image/o/f82c8c6d570287...     train   \n\n                                    image_backup_url  \n0  https://lab.plantnet.org/LifeCLEF/PlantCLEF202...  \n1  https://lab.plantnet.org/LifeCLEF/PlantCLEF202...  \n2  https://lab.plantnet.org/LifeCLEF/PlantCLEF202...  \n3  https://lab.plantnet.org/LifeCLEF/PlantCLEF202...  \n4  https://lab.plantnet.org/LifeCLEF/PlantCLEF202...  "
     },
     "execution_count": 3,
     "metadata": {},
     "output_type": "execute_result"
    }
   ],
   "source": [
    "df_species_ids = pd.read_csv(\"/kaggle/input/plantclef-2025/species_ids.csv\")\n",
    "\n",
    "df_metadata = pd.read_csv(\n",
    "    \"/kaggle/input/plantclef-2025/PlantCLEF2024_single_plant_training_metadata.csv\",\n",
    "    sep=\";\",\n",
    "    dtype={\"partner\": str},\n",
    ")\n",
    "id_to_species = (\n",
    "    df_metadata[[\"species_id\", \"species\"]].drop_duplicates().set_index(\"species_id\")\n",
    ")\n",
    "\n",
    "df_metadata.head()"
   ]
  },
  {
   "cell_type": "markdown",
   "metadata": {},
   "source": "Import provided model with timm library:"
  },
  {
   "cell_type": "code",
   "execution_count": 4,
   "metadata": {
    "execution": {
     "iopub.execute_input": "2025-03-11T10:50:36.113496Z",
     "iopub.status.busy": "2025-03-11T10:50:36.113201Z",
     "iopub.status.idle": "2025-03-11T10:50:46.330638Z",
     "shell.execute_reply": "2025-03-11T10:50:46.329954Z",
     "shell.execute_reply.started": "2025-03-11T10:50:36.113474Z"
    },
    "trusted": true
   },
   "outputs": [],
   "source": [
    "device = torch.device(\"cuda\")\n",
    "model = timm.create_model(\n",
    "    \"vit_base_patch14_reg4_dinov2.lvd142m\",\n",
    "    pretrained=False,\n",
    "    num_classes=len(df_species_ids),\n",
    "    checkpoint_path=\"/kaggle/input/dinov2_patch14_reg4_onlyclassifier_then_all/pytorch/default/3/model_best.pth.tar\",\n",
    ")\n",
    "model = model.to(device)\n",
    "model = model.eval()"
   ]
  },
  {
   "cell_type": "markdown",
   "metadata": {},
   "source": "Load model configuration settings"
  },
  {
   "cell_type": "code",
   "execution_count": 5,
   "metadata": {
    "execution": {
     "iopub.execute_input": "2025-03-11T10:50:46.331578Z",
     "iopub.status.busy": "2025-03-11T10:50:46.331368Z",
     "iopub.status.idle": "2025-03-11T10:50:46.336606Z",
     "shell.execute_reply": "2025-03-11T10:50:46.335753Z",
     "shell.execute_reply.started": "2025-03-11T10:50:46.331560Z"
    },
    "trusted": true
   },
   "outputs": [],
   "source": [
    "data_config = timm.data.resolve_model_data_config(model)\n",
    "transforms = timm.data.create_transform(**data_config, is_training=False)"
   ]
  },
  {
   "cell_type": "markdown",
   "metadata": {},
   "source": "Set hyperparameters:\n* batch_size: size of batch of testing images\n* top_k: keep best top_k results for each image\n* min_score: keep only classes with a score higher than min_score"
  },
  {
   "cell_type": "code",
   "execution_count": 6,
   "metadata": {
    "execution": {
     "iopub.execute_input": "2025-03-11T10:50:46.337629Z",
     "iopub.status.busy": "2025-03-11T10:50:46.337342Z",
     "iopub.status.idle": "2025-03-11T10:50:46.363354Z",
     "shell.execute_reply": "2025-03-11T10:50:46.362691Z",
     "shell.execute_reply.started": "2025-03-11T10:50:46.337602Z"
    },
    "trusted": true
   },
   "outputs": [],
   "source": [
    "batch_size = 32\n",
    "top_k = 15\n",
    "min_score = 0.01"
   ]
  },
  {
   "cell_type": "markdown",
   "metadata": {},
   "source": "Inference on Test Data"
  },
  {
   "cell_type": "code",
   "execution_count": 8,
   "metadata": {
    "execution": {
     "iopub.execute_input": "2025-03-11T10:56:05.518961Z",
     "iopub.status.busy": "2025-03-11T10:56:05.518624Z",
     "iopub.status.idle": "2025-03-11T11:09:57.912914Z",
     "shell.execute_reply": "2025-03-11T11:09:57.912239Z",
     "shell.execute_reply.started": "2025-03-11T10:56:05.518931Z"
    },
    "trusted": true
   },
   "outputs": [],
   "source": [
    "class_map = df_species_ids[\"species_id\"].to_dict()\n",
    "dataset = TestDataset(\n",
    "    image_folder=\"/kaggle/input/plantclef-2025/PlantCLEF2025_test_images/PlantCLEF2025_test_images/\",\n",
    "    transform=timm.data.create_transform(**data_config, is_training=False),\n",
    ")\n",
    "dataloader = DataLoader(dataset, batch_size=batch_size, shuffle=False)\n",
    "\n",
    "image_predictions = {}\n",
    "\n",
    "# Initialize batch time tracking\n",
    "batch_time = AverageMeter()\n",
    "end = time.time()\n",
    "\n",
    "with torch.no_grad():\n",
    "    for batch_idx, (images, image_paths) in enumerate(dataloader):\n",
    "        images = images.to(device)\n",
    "        outputs = model(images)  # Perform inference on the batch\n",
    "        probabilities = torch.nn.functional.softmax(outputs, dim=1)\n",
    "\n",
    "        # Get the top-k values and their indices\n",
    "        values, indices = torch.topk(probabilities, top_k, dim=1)\n",
    "\n",
    "        # Filter based on the probability threshold\n",
    "        values_np = values.cpu().numpy()\n",
    "        indices_np = indices.cpu().numpy()\n",
    "\n",
    "        for i in range(values_np.shape[0]):\n",
    "            # Filtered class indices above the threshold\n",
    "            filtered_indices = indices_np[i][values_np[i] >= min_score]\n",
    "\n",
    "            # Convert class indices to class labels\n",
    "            filtered_labels = [\n",
    "                class_map.get(idx, \"Unknown\") for idx in filtered_indices\n",
    "            ]\n",
    "\n",
    "            # Get the image name without the extension\n",
    "            image_name = os.path.splitext(os.path.basename(image_paths[i]))[0]\n",
    "\n",
    "            image_predictions[image_name] = filtered_labels\n",
    "\n",
    "        batch_time.update(time.time() - end)\n",
    "        end = time.time()\n",
    "\n",
    "        # Log info at specified frequency\n",
    "        if batch_idx % 10 == 0:  # You can set your log frequency here\n",
    "            _logger.info(\n",
    "                f\"Predict: [{batch_idx}/{len(dataloader)}] \"\n",
    "                f\"Time {batch_time.val:.3f} ({batch_time.avg:.3f})\"\n",
    "            )"
   ]
  },
  {
   "cell_type": "markdown",
   "metadata": {},
   "source": "Submit predictions"
  },
  {
   "cell_type": "code",
   "execution_count": 9,
   "metadata": {
    "execution": {
     "iopub.execute_input": "2025-03-11T11:21:13.696703Z",
     "iopub.status.busy": "2025-03-11T11:21:13.696399Z",
     "iopub.status.idle": "2025-03-11T11:21:13.713565Z",
     "shell.execute_reply": "2025-03-11T11:21:13.712797Z",
     "shell.execute_reply.started": "2025-03-11T11:21:13.696680Z"
    },
    "trusted": true
   },
   "outputs": [],
   "source": [
    "df_run = pd.DataFrame(\n",
    "    list(image_predictions.items()), columns=[\"quadrat_id\", \"species_ids\"]\n",
    ")\n",
    "df_run[\"species_ids\"] = df_run[\"species_ids\"].apply(str)\n",
    "df_run.to_csv(\"submission.csv\", sep=\",\", index=False, quoting=csv.QUOTE_ALL)"
   ]
  }
 ],
 "metadata": {
  "kaggle": {
   "accelerator": "nvidiaTeslaT4",
   "dataSources": [
    {
     "databundleVersionId": 11256103,
     "sourceId": 89850,
     "sourceType": "competition"
    },
    {
     "isSourceIdPinned": true,
     "modelId": 216932,
     "modelInstanceId": 195035,
     "sourceId": 228774,
     "sourceType": "modelInstanceVersion"
    },
    {
     "isSourceIdPinned": true,
     "modelId": 216938,
     "modelInstanceId": 195042,
     "sourceId": 228781,
     "sourceType": "modelInstanceVersion"
    }
   ],
   "dockerImageVersionId": 30822,
   "isGpuEnabled": true,
   "isInternetEnabled": true,
   "language": "python",
   "sourceType": "notebook"
  },
  "kernelspec": {
   "display_name": "Python 3",
   "language": "python",
   "name": "python3"
  },
  "language_info": {
   "codemirror_mode": {
    "name": "ipython",
    "version": 3
   },
   "file_extension": ".py",
   "mimetype": "text/x-python",
   "name": "python",
   "nbconvert_exporter": "python",
   "pygments_lexer": "ipython3",
   "version": "3.10.12"
  }
 },
 "nbformat": 4,
 "nbformat_minor": 4
}
