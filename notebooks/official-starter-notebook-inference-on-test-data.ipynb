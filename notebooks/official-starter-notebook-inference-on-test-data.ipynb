{
 "cells": [
  {
   "cell_type": "markdown",
   "metadata": {},
   "source": [
    "# Official Starter notebook | Dinov2 Model Inference"
   ]
  },
  {
   "cell_type": "markdown",
   "metadata": {},
   "source": [
    "## Introduction\n",
    "The purpose of this notebook is to serve as a baseline entry for the competition, and as a guidance on how to infer the available trained models on quadrat test images. \n",
    "The DinoV2-based plant identification model provided in the competition is applied to the entire image of each quadrat in the test set, which has been resized to the original input dimensions of 518x518 used to train DinoV2.\n",
    "This notebook can be used as a starting point for further development. Feel free to leave comments on errors or for any improvement."
   ]
  },
  {
   "cell_type": "markdown",
   "metadata": {},
   "source": [
    "### Import libraries"
   ]
  },
  {
   "cell_type": "code",
   "execution_count": 1,
   "metadata": {
    "_cell_guid": "b1076dfc-b9ad-4769-8c92-a6c4dae69d19",
    "_uuid": "8f2839f25d086af736a60e9eeb907d3b93b6e0e5",
    "execution": {
     "iopub.execute_input": "2025-03-11T10:50:09.787425Z",
     "iopub.status.busy": "2025-03-11T10:50:09.787038Z",
     "iopub.status.idle": "2025-03-11T10:50:15.361743Z",
     "shell.execute_reply": "2025-03-11T10:50:15.360831Z",
     "shell.execute_reply.started": "2025-03-11T10:50:09.787383Z"
    },
    "trusted": true
   },
   "outputs": [
    {
     "name": "stderr",
     "output_type": "stream",
     "text": [
      "/mnt/storage1/hherasimchyk/kaggle/plant-clef-2025/.venv/lib/python3.12/site-packages/tqdm/auto.py:21: TqdmWarning: IProgress not found. Please update jupyter and ipywidgets. See https://ipywidgets.readthedocs.io/en/stable/user_install.html\n",
      "  from .autonotebook import tqdm as notebook_tqdm\n"
     ]
    }
   ],
   "source": [
    "import csv\n",
    "import numpy as np\n",
    "import pandas as pd\n",
    "import timm\n",
    "import torch\n",
    "from PIL import Image\n",
    "from torch.utils.data import DataLoader, Dataset\n",
    "import logging\n",
    "import time\n",
    "import os\n",
    "\n",
    "logging.basicConfig(level=logging.INFO, handlers=[logging.StreamHandler()])\n",
    "_logger = logging.getLogger(\"inference\")"
   ]
  },
  {
   "cell_type": "code",
   "execution_count": 2,
   "metadata": {
    "execution": {
     "iopub.execute_input": "2025-03-11T10:50:15.363216Z",
     "iopub.status.busy": "2025-03-11T10:50:15.362900Z",
     "iopub.status.idle": "2025-03-11T10:50:15.369240Z",
     "shell.execute_reply": "2025-03-11T10:50:15.368403Z",
     "shell.execute_reply.started": "2025-03-11T10:50:15.363188Z"
    },
    "trusted": true
   },
   "outputs": [],
   "source": [
    "class AverageMeter:\n",
    "    def __init__(self):\n",
    "        self.val = 0\n",
    "        self.avg = 0\n",
    "        self.sum = 0\n",
    "        self.count = 0\n",
    "\n",
    "    def update(self, val, n=1):\n",
    "        self.val = val\n",
    "        self.sum += val * n\n",
    "        self.count += n\n",
    "        self.avg = self.sum / self.count\n",
    "\n",
    "\n",
    "class TestDataset(Dataset):\n",
    "    def __init__(self, image_folder, transform=None):\n",
    "        self.image_folder = image_folder\n",
    "        self.image_paths = [\n",
    "            os.path.join(image_folder, f) for f in os.listdir(image_folder)\n",
    "        ]\n",
    "        self.transform = transform\n",
    "\n",
    "    def __len__(self):\n",
    "        return len(self.image_paths)\n",
    "\n",
    "    def __getitem__(self, idx):\n",
    "        image_path = self.image_paths[idx]\n",
    "        image = Image.open(image_path)\n",
    "\n",
    "        if self.transform:\n",
    "            image = self.transform(image)\n",
    "\n",
    "        return image, image_path"
   ]
  },
  {
   "cell_type": "markdown",
   "metadata": {},
   "source": [
    "Load species competition metadata"
   ]
  },
  {
   "cell_type": "code",
   "execution_count": 3,
   "metadata": {
    "execution": {
     "iopub.execute_input": "2025-03-11T10:50:15.371324Z",
     "iopub.status.busy": "2025-03-11T10:50:15.371042Z",
     "iopub.status.idle": "2025-03-11T10:50:36.112003Z",
     "shell.execute_reply": "2025-03-11T10:50:36.111029Z",
     "shell.execute_reply.started": "2025-03-11T10:50:15.371305Z"
    },
    "trusted": true
   },
   "outputs": [
    {
     "data": {
      "text/html": [
       "<div>\n",
       "<style scoped>\n",
       "    .dataframe tbody tr th:only-of-type {\n",
       "        vertical-align: middle;\n",
       "    }\n",
       "\n",
       "    .dataframe tbody tr th {\n",
       "        vertical-align: top;\n",
       "    }\n",
       "\n",
       "    .dataframe thead th {\n",
       "        text-align: right;\n",
       "    }\n",
       "</style>\n",
       "<table border=\"1\" class=\"dataframe\">\n",
       "  <thead>\n",
       "    <tr style=\"text-align: right;\">\n",
       "      <th></th>\n",
       "      <th>image_name</th>\n",
       "      <th>organ</th>\n",
       "      <th>species_id</th>\n",
       "      <th>obs_id</th>\n",
       "      <th>license</th>\n",
       "      <th>partner</th>\n",
       "      <th>author</th>\n",
       "      <th>altitude</th>\n",
       "      <th>latitude</th>\n",
       "      <th>longitude</th>\n",
       "      <th>gbif_species_id</th>\n",
       "      <th>species</th>\n",
       "      <th>genus</th>\n",
       "      <th>family</th>\n",
       "      <th>dataset</th>\n",
       "      <th>publisher</th>\n",
       "      <th>references</th>\n",
       "      <th>url</th>\n",
       "      <th>learn_tag</th>\n",
       "      <th>image_backup_url</th>\n",
       "    </tr>\n",
       "  </thead>\n",
       "  <tbody>\n",
       "    <tr>\n",
       "      <th>0</th>\n",
       "      <td>59feabe1c98f06e7f819f73c8246bd8f1a89556b.jpg</td>\n",
       "      <td>leaf</td>\n",
       "      <td>1396710</td>\n",
       "      <td>1008726402</td>\n",
       "      <td>cc-by-sa</td>\n",
       "      <td>NaN</td>\n",
       "      <td>Gulyás Bálint</td>\n",
       "      <td>205.9261</td>\n",
       "      <td>47.592160</td>\n",
       "      <td>19.362895</td>\n",
       "      <td>5284517.0</td>\n",
       "      <td>Taxus baccata L.</td>\n",
       "      <td>Taxus</td>\n",
       "      <td>Taxaceae</td>\n",
       "      <td>plantnet</td>\n",
       "      <td>plantnet</td>\n",
       "      <td>https://identify.plantnet.org/fr/k-southwester...</td>\n",
       "      <td>https://bs.plantnet.org/image/o/59feabe1c98f06...</td>\n",
       "      <td>train</td>\n",
       "      <td>https://lab.plantnet.org/LifeCLEF/PlantCLEF202...</td>\n",
       "    </tr>\n",
       "    <tr>\n",
       "      <th>1</th>\n",
       "      <td>dc273995a89827437d447f29a52ccac86f65476e.jpg</td>\n",
       "      <td>leaf</td>\n",
       "      <td>1396710</td>\n",
       "      <td>1008724195</td>\n",
       "      <td>cc-by-sa</td>\n",
       "      <td>NaN</td>\n",
       "      <td>vadim sigaud</td>\n",
       "      <td>323.7520</td>\n",
       "      <td>47.906703</td>\n",
       "      <td>7.201746</td>\n",
       "      <td>5284517.0</td>\n",
       "      <td>Taxus baccata L.</td>\n",
       "      <td>Taxus</td>\n",
       "      <td>Taxaceae</td>\n",
       "      <td>plantnet</td>\n",
       "      <td>plantnet</td>\n",
       "      <td>https://identify.plantnet.org/fr/k-southwester...</td>\n",
       "      <td>https://bs.plantnet.org/image/o/dc273995a89827...</td>\n",
       "      <td>train</td>\n",
       "      <td>https://lab.plantnet.org/LifeCLEF/PlantCLEF202...</td>\n",
       "    </tr>\n",
       "    <tr>\n",
       "      <th>2</th>\n",
       "      <td>416235e7023a4bd1513edf036b6097efc693a304.jpg</td>\n",
       "      <td>leaf</td>\n",
       "      <td>1396710</td>\n",
       "      <td>1008721908</td>\n",
       "      <td>cc-by-sa</td>\n",
       "      <td>NaN</td>\n",
       "      <td>fil escande</td>\n",
       "      <td>101.3160</td>\n",
       "      <td>48.826774</td>\n",
       "      <td>2.352774</td>\n",
       "      <td>5284517.0</td>\n",
       "      <td>Taxus baccata L.</td>\n",
       "      <td>Taxus</td>\n",
       "      <td>Taxaceae</td>\n",
       "      <td>plantnet</td>\n",
       "      <td>plantnet</td>\n",
       "      <td>https://identify.plantnet.org/fr/k-southwester...</td>\n",
       "      <td>https://bs.plantnet.org/image/o/416235e7023a4b...</td>\n",
       "      <td>train</td>\n",
       "      <td>https://lab.plantnet.org/LifeCLEF/PlantCLEF202...</td>\n",
       "    </tr>\n",
       "    <tr>\n",
       "      <th>3</th>\n",
       "      <td>cbd18fade82c46a5c725f1f3d982174895158afc.jpg</td>\n",
       "      <td>leaf</td>\n",
       "      <td>1396710</td>\n",
       "      <td>1008699177</td>\n",
       "      <td>cc-by-sa</td>\n",
       "      <td>NaN</td>\n",
       "      <td>Desiree Verver</td>\n",
       "      <td>5.1070</td>\n",
       "      <td>52.190427</td>\n",
       "      <td>6.009677</td>\n",
       "      <td>5284517.0</td>\n",
       "      <td>Taxus baccata L.</td>\n",
       "      <td>Taxus</td>\n",
       "      <td>Taxaceae</td>\n",
       "      <td>plantnet</td>\n",
       "      <td>plantnet</td>\n",
       "      <td>https://identify.plantnet.org/fr/k-southwester...</td>\n",
       "      <td>https://bs.plantnet.org/image/o/cbd18fade82c46...</td>\n",
       "      <td>train</td>\n",
       "      <td>https://lab.plantnet.org/LifeCLEF/PlantCLEF202...</td>\n",
       "    </tr>\n",
       "    <tr>\n",
       "      <th>4</th>\n",
       "      <td>f82c8c6d570287ebed8407cefcfcb2a51eaaf56e.jpg</td>\n",
       "      <td>leaf</td>\n",
       "      <td>1396710</td>\n",
       "      <td>1008683100</td>\n",
       "      <td>cc-by-sa</td>\n",
       "      <td>NaN</td>\n",
       "      <td>branebrane</td>\n",
       "      <td>165.3390</td>\n",
       "      <td>45.794739</td>\n",
       "      <td>15.965862</td>\n",
       "      <td>5284517.0</td>\n",
       "      <td>Taxus baccata L.</td>\n",
       "      <td>Taxus</td>\n",
       "      <td>Taxaceae</td>\n",
       "      <td>plantnet</td>\n",
       "      <td>plantnet</td>\n",
       "      <td>https://identify.plantnet.org/fr/k-southwester...</td>\n",
       "      <td>https://bs.plantnet.org/image/o/f82c8c6d570287...</td>\n",
       "      <td>train</td>\n",
       "      <td>https://lab.plantnet.org/LifeCLEF/PlantCLEF202...</td>\n",
       "    </tr>\n",
       "  </tbody>\n",
       "</table>\n",
       "</div>"
      ],
      "text/plain": [
       "                                     image_name organ  species_id      obs_id  \\\n",
       "0  59feabe1c98f06e7f819f73c8246bd8f1a89556b.jpg  leaf     1396710  1008726402   \n",
       "1  dc273995a89827437d447f29a52ccac86f65476e.jpg  leaf     1396710  1008724195   \n",
       "2  416235e7023a4bd1513edf036b6097efc693a304.jpg  leaf     1396710  1008721908   \n",
       "3  cbd18fade82c46a5c725f1f3d982174895158afc.jpg  leaf     1396710  1008699177   \n",
       "4  f82c8c6d570287ebed8407cefcfcb2a51eaaf56e.jpg  leaf     1396710  1008683100   \n",
       "\n",
       "    license partner          author  altitude   latitude  longitude  \\\n",
       "0  cc-by-sa     NaN   Gulyás Bálint  205.9261  47.592160  19.362895   \n",
       "1  cc-by-sa     NaN    vadim sigaud  323.7520  47.906703   7.201746   \n",
       "2  cc-by-sa     NaN     fil escande  101.3160  48.826774   2.352774   \n",
       "3  cc-by-sa     NaN  Desiree Verver    5.1070  52.190427   6.009677   \n",
       "4  cc-by-sa     NaN      branebrane  165.3390  45.794739  15.965862   \n",
       "\n",
       "   gbif_species_id           species  genus    family   dataset publisher  \\\n",
       "0        5284517.0  Taxus baccata L.  Taxus  Taxaceae  plantnet  plantnet   \n",
       "1        5284517.0  Taxus baccata L.  Taxus  Taxaceae  plantnet  plantnet   \n",
       "2        5284517.0  Taxus baccata L.  Taxus  Taxaceae  plantnet  plantnet   \n",
       "3        5284517.0  Taxus baccata L.  Taxus  Taxaceae  plantnet  plantnet   \n",
       "4        5284517.0  Taxus baccata L.  Taxus  Taxaceae  plantnet  plantnet   \n",
       "\n",
       "                                          references  \\\n",
       "0  https://identify.plantnet.org/fr/k-southwester...   \n",
       "1  https://identify.plantnet.org/fr/k-southwester...   \n",
       "2  https://identify.plantnet.org/fr/k-southwester...   \n",
       "3  https://identify.plantnet.org/fr/k-southwester...   \n",
       "4  https://identify.plantnet.org/fr/k-southwester...   \n",
       "\n",
       "                                                 url learn_tag  \\\n",
       "0  https://bs.plantnet.org/image/o/59feabe1c98f06...     train   \n",
       "1  https://bs.plantnet.org/image/o/dc273995a89827...     train   \n",
       "2  https://bs.plantnet.org/image/o/416235e7023a4b...     train   \n",
       "3  https://bs.plantnet.org/image/o/cbd18fade82c46...     train   \n",
       "4  https://bs.plantnet.org/image/o/f82c8c6d570287...     train   \n",
       "\n",
       "                                    image_backup_url  \n",
       "0  https://lab.plantnet.org/LifeCLEF/PlantCLEF202...  \n",
       "1  https://lab.plantnet.org/LifeCLEF/PlantCLEF202...  \n",
       "2  https://lab.plantnet.org/LifeCLEF/PlantCLEF202...  \n",
       "3  https://lab.plantnet.org/LifeCLEF/PlantCLEF202...  \n",
       "4  https://lab.plantnet.org/LifeCLEF/PlantCLEF202...  "
      ]
     },
     "execution_count": 3,
     "metadata": {},
     "output_type": "execute_result"
    }
   ],
   "source": [
    "PROJECT_PATH = \"/mnt/storage1/shared_data/plant_clef_2025/\"\n",
    "DATA_FOLDER_PATH = f\"{PROJECT_PATH}data/\"\n",
    "TEST_DATA_PATH = f\"{DATA_FOLDER_PATH}plant_clef_2025_test/\"\n",
    "\n",
    "df_species_ids = pd.read_csv(f\"{TEST_DATA_PATH}species_ids.csv\")\n",
    "\n",
    "df_metadata = pd.read_csv(\n",
    "    f\"{TEST_DATA_PATH}PlantCLEF2024_single_plant_training_metadata.csv\",\n",
    "    sep=\";\",\n",
    "    dtype={\"partner\": str},\n",
    ")\n",
    "id_to_species = (\n",
    "    df_metadata[[\"species_id\", \"species\"]].drop_duplicates().set_index(\"species_id\")\n",
    ")\n",
    "\n",
    "df_metadata.head()"
   ]
  },
  {
   "cell_type": "markdown",
   "metadata": {},
   "source": [
    "Import provided model with timm library:"
   ]
  },
  {
   "cell_type": "code",
   "execution_count": 4,
   "metadata": {
    "execution": {
     "iopub.execute_input": "2025-03-11T10:50:36.113496Z",
     "iopub.status.busy": "2025-03-11T10:50:36.113201Z",
     "iopub.status.idle": "2025-03-11T10:50:46.330638Z",
     "shell.execute_reply": "2025-03-11T10:50:46.329954Z",
     "shell.execute_reply.started": "2025-03-11T10:50:36.113474Z"
    },
    "trusted": true
   },
   "outputs": [
    {
     "name": "stderr",
     "output_type": "stream",
     "text": [
      "INFO:timm.models._helpers:Loaded state_dict_ema from checkpoint '/mnt/storage1/shared_data/plant_clef_2025/models/model_onlyclassifier_then_all/model_best.pth.tar'\n"
     ]
    }
   ],
   "source": [
    "MODEL_FOLDER_PATH = f\"{PROJECT_PATH}models/\"\n",
    "\n",
    "device = torch.device(\"cuda\")\n",
    "model = timm.create_model(\n",
    "    \"vit_base_patch14_reg4_dinov2.lvd142m\",\n",
    "    pretrained=False,\n",
    "    num_classes=len(df_species_ids),\n",
    "    checkpoint_path=f\"{MODEL_FOLDER_PATH}model_onlyclassifier_then_all/model_best.pth.tar\",\n",
    ")\n",
    "model = model.to(device)\n",
    "model = model.eval()"
   ]
  },
  {
   "cell_type": "markdown",
   "metadata": {},
   "source": [
    "Load model configuration settings"
   ]
  },
  {
   "cell_type": "code",
   "execution_count": 5,
   "metadata": {
    "execution": {
     "iopub.execute_input": "2025-03-11T10:50:46.331578Z",
     "iopub.status.busy": "2025-03-11T10:50:46.331368Z",
     "iopub.status.idle": "2025-03-11T10:50:46.336606Z",
     "shell.execute_reply": "2025-03-11T10:50:46.335753Z",
     "shell.execute_reply.started": "2025-03-11T10:50:46.331560Z"
    },
    "trusted": true
   },
   "outputs": [],
   "source": [
    "data_config = timm.data.resolve_model_data_config(model)\n",
    "transforms = timm.data.create_transform(**data_config, is_training=False)"
   ]
  },
  {
   "cell_type": "markdown",
   "metadata": {},
   "source": [
    "Set hyperparameters:\n",
    "* batch_size: size of batch of testing images\n",
    "* top_k: keep best top_k results for each image\n",
    "* min_score: keep only classes with a score higher than min_score"
   ]
  },
  {
   "cell_type": "code",
   "execution_count": 6,
   "metadata": {
    "execution": {
     "iopub.execute_input": "2025-03-11T10:50:46.337629Z",
     "iopub.status.busy": "2025-03-11T10:50:46.337342Z",
     "iopub.status.idle": "2025-03-11T10:50:46.363354Z",
     "shell.execute_reply": "2025-03-11T10:50:46.362691Z",
     "shell.execute_reply.started": "2025-03-11T10:50:46.337602Z"
    },
    "trusted": true
   },
   "outputs": [],
   "source": [
    "batch_size = 32\n",
    "top_k = 15\n",
    "min_score = 0.01"
   ]
  },
  {
   "cell_type": "markdown",
   "metadata": {},
   "source": [
    "Inference on Test Data"
   ]
  },
  {
   "cell_type": "code",
   "execution_count": 7,
   "metadata": {
    "execution": {
     "iopub.execute_input": "2025-03-11T10:56:05.518961Z",
     "iopub.status.busy": "2025-03-11T10:56:05.518624Z",
     "iopub.status.idle": "2025-03-11T11:09:57.912914Z",
     "shell.execute_reply": "2025-03-11T11:09:57.912239Z",
     "shell.execute_reply.started": "2025-03-11T10:56:05.518931Z"
    },
    "trusted": true
   },
   "outputs": [
    {
     "name": "stderr",
     "output_type": "stream",
     "text": [
      "INFO:inference:Predict: [0/66] Time 15.569 (15.569)\n"
     ]
    },
    {
     "ename": "KeyboardInterrupt",
     "evalue": "",
     "output_type": "error",
     "traceback": [
      "\u001b[31m---------------------------------------------------------------------------\u001b[39m",
      "\u001b[31mKeyboardInterrupt\u001b[39m                         Traceback (most recent call last)",
      "\u001b[36mCell\u001b[39m\u001b[36m \u001b[39m\u001b[32mIn[7]\u001b[39m\u001b[32m, line 15\u001b[39m\n\u001b[32m     12\u001b[39m end = time.time()\n\u001b[32m     14\u001b[39m \u001b[38;5;28;01mwith\u001b[39;00m torch.no_grad():\n\u001b[32m---> \u001b[39m\u001b[32m15\u001b[39m \u001b[43m    \u001b[49m\u001b[38;5;28;43;01mfor\u001b[39;49;00m\u001b[43m \u001b[49m\u001b[43mbatch_idx\u001b[49m\u001b[43m,\u001b[49m\u001b[43m \u001b[49m\u001b[43m(\u001b[49m\u001b[43mimages\u001b[49m\u001b[43m,\u001b[49m\u001b[43m \u001b[49m\u001b[43mimage_paths\u001b[49m\u001b[43m)\u001b[49m\u001b[43m \u001b[49m\u001b[38;5;129;43;01min\u001b[39;49;00m\u001b[43m \u001b[49m\u001b[38;5;28;43menumerate\u001b[39;49m\u001b[43m(\u001b[49m\u001b[43mdataloader\u001b[49m\u001b[43m)\u001b[49m\u001b[43m:\u001b[49m\n\u001b[32m     16\u001b[39m \u001b[43m        \u001b[49m\u001b[43mimages\u001b[49m\u001b[43m \u001b[49m\u001b[43m=\u001b[49m\u001b[43m \u001b[49m\u001b[43mimages\u001b[49m\u001b[43m.\u001b[49m\u001b[43mto\u001b[49m\u001b[43m(\u001b[49m\u001b[43mdevice\u001b[49m\u001b[43m)\u001b[49m\n\u001b[32m     17\u001b[39m \u001b[43m        \u001b[49m\u001b[43moutputs\u001b[49m\u001b[43m \u001b[49m\u001b[43m=\u001b[49m\u001b[43m \u001b[49m\u001b[43mmodel\u001b[49m\u001b[43m(\u001b[49m\u001b[43mimages\u001b[49m\u001b[43m)\u001b[49m\u001b[43m  \u001b[49m\u001b[38;5;66;43;03m# Perform inference on the batch\u001b[39;49;00m\n",
      "\u001b[36mFile \u001b[39m\u001b[32m/mnt/storage1/hherasimchyk/kaggle/plant-clef-2025/.venv/lib/python3.12/site-packages/torch/utils/data/dataloader.py:708\u001b[39m, in \u001b[36m_BaseDataLoaderIter.__next__\u001b[39m\u001b[34m(self)\u001b[39m\n\u001b[32m    705\u001b[39m \u001b[38;5;28;01mif\u001b[39;00m \u001b[38;5;28mself\u001b[39m._sampler_iter \u001b[38;5;129;01mis\u001b[39;00m \u001b[38;5;28;01mNone\u001b[39;00m:\n\u001b[32m    706\u001b[39m     \u001b[38;5;66;03m# TODO(https://github.com/pytorch/pytorch/issues/76750)\u001b[39;00m\n\u001b[32m    707\u001b[39m     \u001b[38;5;28mself\u001b[39m._reset()  \u001b[38;5;66;03m# type: ignore[call-arg]\u001b[39;00m\n\u001b[32m--> \u001b[39m\u001b[32m708\u001b[39m data = \u001b[38;5;28;43mself\u001b[39;49m\u001b[43m.\u001b[49m\u001b[43m_next_data\u001b[49m\u001b[43m(\u001b[49m\u001b[43m)\u001b[49m\n\u001b[32m    709\u001b[39m \u001b[38;5;28mself\u001b[39m._num_yielded += \u001b[32m1\u001b[39m\n\u001b[32m    710\u001b[39m \u001b[38;5;28;01mif\u001b[39;00m (\n\u001b[32m    711\u001b[39m     \u001b[38;5;28mself\u001b[39m._dataset_kind == _DatasetKind.Iterable\n\u001b[32m    712\u001b[39m     \u001b[38;5;129;01mand\u001b[39;00m \u001b[38;5;28mself\u001b[39m._IterableDataset_len_called \u001b[38;5;129;01mis\u001b[39;00m \u001b[38;5;129;01mnot\u001b[39;00m \u001b[38;5;28;01mNone\u001b[39;00m\n\u001b[32m    713\u001b[39m     \u001b[38;5;129;01mand\u001b[39;00m \u001b[38;5;28mself\u001b[39m._num_yielded > \u001b[38;5;28mself\u001b[39m._IterableDataset_len_called\n\u001b[32m    714\u001b[39m ):\n",
      "\u001b[36mFile \u001b[39m\u001b[32m/mnt/storage1/hherasimchyk/kaggle/plant-clef-2025/.venv/lib/python3.12/site-packages/torch/utils/data/dataloader.py:764\u001b[39m, in \u001b[36m_SingleProcessDataLoaderIter._next_data\u001b[39m\u001b[34m(self)\u001b[39m\n\u001b[32m    762\u001b[39m \u001b[38;5;28;01mdef\u001b[39;00m\u001b[38;5;250m \u001b[39m\u001b[34m_next_data\u001b[39m(\u001b[38;5;28mself\u001b[39m):\n\u001b[32m    763\u001b[39m     index = \u001b[38;5;28mself\u001b[39m._next_index()  \u001b[38;5;66;03m# may raise StopIteration\u001b[39;00m\n\u001b[32m--> \u001b[39m\u001b[32m764\u001b[39m     data = \u001b[38;5;28;43mself\u001b[39;49m\u001b[43m.\u001b[49m\u001b[43m_dataset_fetcher\u001b[49m\u001b[43m.\u001b[49m\u001b[43mfetch\u001b[49m\u001b[43m(\u001b[49m\u001b[43mindex\u001b[49m\u001b[43m)\u001b[49m  \u001b[38;5;66;03m# may raise StopIteration\u001b[39;00m\n\u001b[32m    765\u001b[39m     \u001b[38;5;28;01mif\u001b[39;00m \u001b[38;5;28mself\u001b[39m._pin_memory:\n\u001b[32m    766\u001b[39m         data = _utils.pin_memory.pin_memory(data, \u001b[38;5;28mself\u001b[39m._pin_memory_device)\n",
      "\u001b[36mFile \u001b[39m\u001b[32m/mnt/storage1/hherasimchyk/kaggle/plant-clef-2025/.venv/lib/python3.12/site-packages/torch/utils/data/_utils/fetch.py:52\u001b[39m, in \u001b[36m_MapDatasetFetcher.fetch\u001b[39m\u001b[34m(self, possibly_batched_index)\u001b[39m\n\u001b[32m     50\u001b[39m         data = \u001b[38;5;28mself\u001b[39m.dataset.__getitems__(possibly_batched_index)\n\u001b[32m     51\u001b[39m     \u001b[38;5;28;01melse\u001b[39;00m:\n\u001b[32m---> \u001b[39m\u001b[32m52\u001b[39m         data = [\u001b[38;5;28;43mself\u001b[39;49m\u001b[43m.\u001b[49m\u001b[43mdataset\u001b[49m\u001b[43m[\u001b[49m\u001b[43midx\u001b[49m\u001b[43m]\u001b[49m \u001b[38;5;28;01mfor\u001b[39;00m idx \u001b[38;5;129;01min\u001b[39;00m possibly_batched_index]\n\u001b[32m     53\u001b[39m \u001b[38;5;28;01melse\u001b[39;00m:\n\u001b[32m     54\u001b[39m     data = \u001b[38;5;28mself\u001b[39m.dataset[possibly_batched_index]\n",
      "\u001b[36mCell\u001b[39m\u001b[36m \u001b[39m\u001b[32mIn[2]\u001b[39m\u001b[32m, line 31\u001b[39m, in \u001b[36mTestDataset.__getitem__\u001b[39m\u001b[34m(self, idx)\u001b[39m\n\u001b[32m     28\u001b[39m image = Image.open(image_path)\n\u001b[32m     30\u001b[39m \u001b[38;5;28;01mif\u001b[39;00m \u001b[38;5;28mself\u001b[39m.transform:\n\u001b[32m---> \u001b[39m\u001b[32m31\u001b[39m     image = \u001b[38;5;28;43mself\u001b[39;49m\u001b[43m.\u001b[49m\u001b[43mtransform\u001b[49m\u001b[43m(\u001b[49m\u001b[43mimage\u001b[49m\u001b[43m)\u001b[49m\n\u001b[32m     33\u001b[39m \u001b[38;5;28;01mreturn\u001b[39;00m image, image_path\n",
      "\u001b[36mFile \u001b[39m\u001b[32m/mnt/storage1/hherasimchyk/kaggle/plant-clef-2025/.venv/lib/python3.12/site-packages/torchvision/transforms/transforms.py:95\u001b[39m, in \u001b[36mCompose.__call__\u001b[39m\u001b[34m(self, img)\u001b[39m\n\u001b[32m     93\u001b[39m \u001b[38;5;28;01mdef\u001b[39;00m\u001b[38;5;250m \u001b[39m\u001b[34m__call__\u001b[39m(\u001b[38;5;28mself\u001b[39m, img):\n\u001b[32m     94\u001b[39m     \u001b[38;5;28;01mfor\u001b[39;00m t \u001b[38;5;129;01min\u001b[39;00m \u001b[38;5;28mself\u001b[39m.transforms:\n\u001b[32m---> \u001b[39m\u001b[32m95\u001b[39m         img = \u001b[43mt\u001b[49m\u001b[43m(\u001b[49m\u001b[43mimg\u001b[49m\u001b[43m)\u001b[49m\n\u001b[32m     96\u001b[39m     \u001b[38;5;28;01mreturn\u001b[39;00m img\n",
      "\u001b[36mFile \u001b[39m\u001b[32m/mnt/storage1/hherasimchyk/kaggle/plant-clef-2025/.venv/lib/python3.12/site-packages/torch/nn/modules/module.py:1739\u001b[39m, in \u001b[36mModule._wrapped_call_impl\u001b[39m\u001b[34m(self, *args, **kwargs)\u001b[39m\n\u001b[32m   1737\u001b[39m     \u001b[38;5;28;01mreturn\u001b[39;00m \u001b[38;5;28mself\u001b[39m._compiled_call_impl(*args, **kwargs)  \u001b[38;5;66;03m# type: ignore[misc]\u001b[39;00m\n\u001b[32m   1738\u001b[39m \u001b[38;5;28;01melse\u001b[39;00m:\n\u001b[32m-> \u001b[39m\u001b[32m1739\u001b[39m     \u001b[38;5;28;01mreturn\u001b[39;00m \u001b[38;5;28;43mself\u001b[39;49m\u001b[43m.\u001b[49m\u001b[43m_call_impl\u001b[49m\u001b[43m(\u001b[49m\u001b[43m*\u001b[49m\u001b[43margs\u001b[49m\u001b[43m,\u001b[49m\u001b[43m \u001b[49m\u001b[43m*\u001b[49m\u001b[43m*\u001b[49m\u001b[43mkwargs\u001b[49m\u001b[43m)\u001b[49m\n",
      "\u001b[36mFile \u001b[39m\u001b[32m/mnt/storage1/hherasimchyk/kaggle/plant-clef-2025/.venv/lib/python3.12/site-packages/torch/nn/modules/module.py:1750\u001b[39m, in \u001b[36mModule._call_impl\u001b[39m\u001b[34m(self, *args, **kwargs)\u001b[39m\n\u001b[32m   1745\u001b[39m \u001b[38;5;66;03m# If we don't have any hooks, we want to skip the rest of the logic in\u001b[39;00m\n\u001b[32m   1746\u001b[39m \u001b[38;5;66;03m# this function, and just call forward.\u001b[39;00m\n\u001b[32m   1747\u001b[39m \u001b[38;5;28;01mif\u001b[39;00m \u001b[38;5;129;01mnot\u001b[39;00m (\u001b[38;5;28mself\u001b[39m._backward_hooks \u001b[38;5;129;01mor\u001b[39;00m \u001b[38;5;28mself\u001b[39m._backward_pre_hooks \u001b[38;5;129;01mor\u001b[39;00m \u001b[38;5;28mself\u001b[39m._forward_hooks \u001b[38;5;129;01mor\u001b[39;00m \u001b[38;5;28mself\u001b[39m._forward_pre_hooks\n\u001b[32m   1748\u001b[39m         \u001b[38;5;129;01mor\u001b[39;00m _global_backward_pre_hooks \u001b[38;5;129;01mor\u001b[39;00m _global_backward_hooks\n\u001b[32m   1749\u001b[39m         \u001b[38;5;129;01mor\u001b[39;00m _global_forward_hooks \u001b[38;5;129;01mor\u001b[39;00m _global_forward_pre_hooks):\n\u001b[32m-> \u001b[39m\u001b[32m1750\u001b[39m     \u001b[38;5;28;01mreturn\u001b[39;00m \u001b[43mforward_call\u001b[49m\u001b[43m(\u001b[49m\u001b[43m*\u001b[49m\u001b[43margs\u001b[49m\u001b[43m,\u001b[49m\u001b[43m \u001b[49m\u001b[43m*\u001b[49m\u001b[43m*\u001b[49m\u001b[43mkwargs\u001b[49m\u001b[43m)\u001b[49m\n\u001b[32m   1752\u001b[39m result = \u001b[38;5;28;01mNone\u001b[39;00m\n\u001b[32m   1753\u001b[39m called_always_called_hooks = \u001b[38;5;28mset\u001b[39m()\n",
      "\u001b[36mFile \u001b[39m\u001b[32m/mnt/storage1/hherasimchyk/kaggle/plant-clef-2025/.venv/lib/python3.12/site-packages/torchvision/transforms/transforms.py:354\u001b[39m, in \u001b[36mResize.forward\u001b[39m\u001b[34m(self, img)\u001b[39m\n\u001b[32m    346\u001b[39m \u001b[38;5;28;01mdef\u001b[39;00m\u001b[38;5;250m \u001b[39m\u001b[34mforward\u001b[39m(\u001b[38;5;28mself\u001b[39m, img):\n\u001b[32m    347\u001b[39m \u001b[38;5;250m    \u001b[39m\u001b[33;03m\"\"\"\u001b[39;00m\n\u001b[32m    348\u001b[39m \u001b[33;03m    Args:\u001b[39;00m\n\u001b[32m    349\u001b[39m \u001b[33;03m        img (PIL Image or Tensor): Image to be scaled.\u001b[39;00m\n\u001b[32m   (...)\u001b[39m\u001b[32m    352\u001b[39m \u001b[33;03m        PIL Image or Tensor: Rescaled image.\u001b[39;00m\n\u001b[32m    353\u001b[39m \u001b[33;03m    \"\"\"\u001b[39;00m\n\u001b[32m--> \u001b[39m\u001b[32m354\u001b[39m     \u001b[38;5;28;01mreturn\u001b[39;00m \u001b[43mF\u001b[49m\u001b[43m.\u001b[49m\u001b[43mresize\u001b[49m\u001b[43m(\u001b[49m\u001b[43mimg\u001b[49m\u001b[43m,\u001b[49m\u001b[43m \u001b[49m\u001b[38;5;28;43mself\u001b[39;49m\u001b[43m.\u001b[49m\u001b[43msize\u001b[49m\u001b[43m,\u001b[49m\u001b[43m \u001b[49m\u001b[38;5;28;43mself\u001b[39;49m\u001b[43m.\u001b[49m\u001b[43minterpolation\u001b[49m\u001b[43m,\u001b[49m\u001b[43m \u001b[49m\u001b[38;5;28;43mself\u001b[39;49m\u001b[43m.\u001b[49m\u001b[43mmax_size\u001b[49m\u001b[43m,\u001b[49m\u001b[43m \u001b[49m\u001b[38;5;28;43mself\u001b[39;49m\u001b[43m.\u001b[49m\u001b[43mantialias\u001b[49m\u001b[43m)\u001b[49m\n",
      "\u001b[36mFile \u001b[39m\u001b[32m/mnt/storage1/hherasimchyk/kaggle/plant-clef-2025/.venv/lib/python3.12/site-packages/torchvision/transforms/functional.py:477\u001b[39m, in \u001b[36mresize\u001b[39m\u001b[34m(img, size, interpolation, max_size, antialias)\u001b[39m\n\u001b[32m    475\u001b[39m         warnings.warn(\u001b[33m\"\u001b[39m\u001b[33mAnti-alias option is always applied for PIL Image input. Argument antialias is ignored.\u001b[39m\u001b[33m\"\u001b[39m)\n\u001b[32m    476\u001b[39m     pil_interpolation = pil_modes_mapping[interpolation]\n\u001b[32m--> \u001b[39m\u001b[32m477\u001b[39m     \u001b[38;5;28;01mreturn\u001b[39;00m \u001b[43mF_pil\u001b[49m\u001b[43m.\u001b[49m\u001b[43mresize\u001b[49m\u001b[43m(\u001b[49m\u001b[43mimg\u001b[49m\u001b[43m,\u001b[49m\u001b[43m \u001b[49m\u001b[43msize\u001b[49m\u001b[43m=\u001b[49m\u001b[43moutput_size\u001b[49m\u001b[43m,\u001b[49m\u001b[43m \u001b[49m\u001b[43minterpolation\u001b[49m\u001b[43m=\u001b[49m\u001b[43mpil_interpolation\u001b[49m\u001b[43m)\u001b[49m\n\u001b[32m    479\u001b[39m \u001b[38;5;28;01mreturn\u001b[39;00m F_t.resize(img, size=output_size, interpolation=interpolation.value, antialias=antialias)\n",
      "\u001b[36mFile \u001b[39m\u001b[32m/mnt/storage1/hherasimchyk/kaggle/plant-clef-2025/.venv/lib/python3.12/site-packages/torchvision/transforms/_functional_pil.py:250\u001b[39m, in \u001b[36mresize\u001b[39m\u001b[34m(img, size, interpolation)\u001b[39m\n\u001b[32m    247\u001b[39m \u001b[38;5;28;01mif\u001b[39;00m \u001b[38;5;129;01mnot\u001b[39;00m (\u001b[38;5;28misinstance\u001b[39m(size, \u001b[38;5;28mlist\u001b[39m) \u001b[38;5;129;01mand\u001b[39;00m \u001b[38;5;28mlen\u001b[39m(size) == \u001b[32m2\u001b[39m):\n\u001b[32m    248\u001b[39m     \u001b[38;5;28;01mraise\u001b[39;00m \u001b[38;5;167;01mTypeError\u001b[39;00m(\u001b[33mf\u001b[39m\u001b[33m\"\u001b[39m\u001b[33mGot inappropriate size arg: \u001b[39m\u001b[38;5;132;01m{\u001b[39;00msize\u001b[38;5;132;01m}\u001b[39;00m\u001b[33m\"\u001b[39m)\n\u001b[32m--> \u001b[39m\u001b[32m250\u001b[39m \u001b[38;5;28;01mreturn\u001b[39;00m \u001b[43mimg\u001b[49m\u001b[43m.\u001b[49m\u001b[43mresize\u001b[49m\u001b[43m(\u001b[49m\u001b[38;5;28;43mtuple\u001b[39;49m\u001b[43m(\u001b[49m\u001b[43msize\u001b[49m\u001b[43m[\u001b[49m\u001b[43m:\u001b[49m\u001b[43m:\u001b[49m\u001b[43m-\u001b[49m\u001b[32;43m1\u001b[39;49m\u001b[43m]\u001b[49m\u001b[43m)\u001b[49m\u001b[43m,\u001b[49m\u001b[43m \u001b[49m\u001b[43minterpolation\u001b[49m\u001b[43m)\u001b[49m\n",
      "\u001b[36mFile \u001b[39m\u001b[32m/mnt/storage1/hherasimchyk/kaggle/plant-clef-2025/.venv/lib/python3.12/site-packages/PIL/Image.py:2356\u001b[39m, in \u001b[36mImage.resize\u001b[39m\u001b[34m(self, size, resample, box, reducing_gap)\u001b[39m\n\u001b[32m   2344\u001b[39m         \u001b[38;5;28mself\u001b[39m = (\n\u001b[32m   2345\u001b[39m             \u001b[38;5;28mself\u001b[39m.reduce(factor, box=reduce_box)\n\u001b[32m   2346\u001b[39m             \u001b[38;5;28;01mif\u001b[39;00m \u001b[38;5;28mcallable\u001b[39m(\u001b[38;5;28mself\u001b[39m.reduce)\n\u001b[32m   2347\u001b[39m             \u001b[38;5;28;01melse\u001b[39;00m Image.reduce(\u001b[38;5;28mself\u001b[39m, factor, box=reduce_box)\n\u001b[32m   2348\u001b[39m         )\n\u001b[32m   2349\u001b[39m         box = (\n\u001b[32m   2350\u001b[39m             (box[\u001b[32m0\u001b[39m] - reduce_box[\u001b[32m0\u001b[39m]) / factor_x,\n\u001b[32m   2351\u001b[39m             (box[\u001b[32m1\u001b[39m] - reduce_box[\u001b[32m1\u001b[39m]) / factor_y,\n\u001b[32m   2352\u001b[39m             (box[\u001b[32m2\u001b[39m] - reduce_box[\u001b[32m0\u001b[39m]) / factor_x,\n\u001b[32m   2353\u001b[39m             (box[\u001b[32m3\u001b[39m] - reduce_box[\u001b[32m1\u001b[39m]) / factor_y,\n\u001b[32m   2354\u001b[39m         )\n\u001b[32m-> \u001b[39m\u001b[32m2356\u001b[39m \u001b[38;5;28;01mreturn\u001b[39;00m \u001b[38;5;28mself\u001b[39m._new(\u001b[38;5;28;43mself\u001b[39;49m\u001b[43m.\u001b[49m\u001b[43mim\u001b[49m\u001b[43m.\u001b[49m\u001b[43mresize\u001b[49m\u001b[43m(\u001b[49m\u001b[43msize\u001b[49m\u001b[43m,\u001b[49m\u001b[43m \u001b[49m\u001b[43mresample\u001b[49m\u001b[43m,\u001b[49m\u001b[43m \u001b[49m\u001b[43mbox\u001b[49m\u001b[43m)\u001b[49m)\n",
      "\u001b[31mKeyboardInterrupt\u001b[39m: "
     ]
    }
   ],
   "source": [
    "class_map = df_species_ids[\"species_id\"].to_dict()\n",
    "dataset = TestDataset(\n",
    "    image_folder=f\"{TEST_DATA_PATH}PlantCLEF2025_test_images/PlantCLEF2025_test_images/\",\n",
    "    transform=timm.data.create_transform(**data_config, is_training=False),\n",
    ")\n",
    "dataloader = DataLoader(dataset, batch_size=batch_size, shuffle=False)\n",
    "\n",
    "image_predictions = {}\n",
    "\n",
    "# Initialize batch time tracking\n",
    "batch_time = AverageMeter()\n",
    "end = time.time()\n",
    "\n",
    "with torch.no_grad():\n",
    "    for batch_idx, (images, image_paths) in enumerate(dataloader):\n",
    "        images = images.to(device)\n",
    "        outputs = model(images)  # Perform inference on the batch\n",
    "        probabilities = torch.nn.functional.softmax(outputs, dim=1)\n",
    "\n",
    "        # Get the top-k values and their indices\n",
    "        values, indices = torch.topk(probabilities, top_k, dim=1)\n",
    "\n",
    "        # Filter based on the probability threshold\n",
    "        values_np = values.cpu().numpy()\n",
    "        indices_np = indices.cpu().numpy()\n",
    "\n",
    "        for i in range(values_np.shape[0]):\n",
    "            # Filtered class indices above the threshold\n",
    "            filtered_indices = indices_np[i][values_np[i] >= min_score]\n",
    "\n",
    "            # Convert class indices to class labels\n",
    "            filtered_labels = [\n",
    "                class_map.get(idx, \"Unknown\") for idx in filtered_indices\n",
    "            ]\n",
    "\n",
    "            # Get the image name without the extension\n",
    "            image_name = os.path.splitext(os.path.basename(image_paths[i]))[0]\n",
    "\n",
    "            image_predictions[image_name] = filtered_labels\n",
    "\n",
    "        batch_time.update(time.time() - end)\n",
    "        end = time.time()\n",
    "\n",
    "        # Log info at specified frequency\n",
    "        if batch_idx % 10 == 0:  # You can set your log frequency here\n",
    "            _logger.info(\n",
    "                f\"Predict: [{batch_idx}/{len(dataloader)}] \"\n",
    "                f\"Time {batch_time.val:.3f} ({batch_time.avg:.3f})\"\n",
    "            )"
   ]
  },
  {
   "cell_type": "markdown",
   "metadata": {},
   "source": [
    "Submit predictions"
   ]
  },
  {
   "cell_type": "code",
   "execution_count": 9,
   "metadata": {
    "execution": {
     "iopub.execute_input": "2025-03-11T11:21:13.696703Z",
     "iopub.status.busy": "2025-03-11T11:21:13.696399Z",
     "iopub.status.idle": "2025-03-11T11:21:13.713565Z",
     "shell.execute_reply": "2025-03-11T11:21:13.712797Z",
     "shell.execute_reply.started": "2025-03-11T11:21:13.696680Z"
    },
    "trusted": true
   },
   "outputs": [],
   "source": [
    "df_run = pd.DataFrame(\n",
    "    list(image_predictions.items()), columns=[\"quadrat_id\", \"species_ids\"]\n",
    ")\n",
    "df_run[\"species_ids\"] = df_run[\"species_ids\"].apply(str)\n",
    "df_run.to_csv(\"submission.csv\", sep=\",\", index=False, quoting=csv.QUOTE_ALL)"
   ]
  },
  {
   "cell_type": "code",
   "execution_count": null,
   "metadata": {},
   "outputs": [],
   "source": []
  }
 ],
 "metadata": {
  "kaggle": {
   "accelerator": "nvidiaTeslaT4",
   "dataSources": [
    {
     "databundleVersionId": 11256103,
     "sourceId": 89850,
     "sourceType": "competition"
    },
    {
     "isSourceIdPinned": true,
     "modelId": 216932,
     "modelInstanceId": 195035,
     "sourceId": 228774,
     "sourceType": "modelInstanceVersion"
    },
    {
     "isSourceIdPinned": true,
     "modelId": 216938,
     "modelInstanceId": 195042,
     "sourceId": 228781,
     "sourceType": "modelInstanceVersion"
    }
   ],
   "dockerImageVersionId": 30822,
   "isGpuEnabled": true,
   "isInternetEnabled": true,
   "language": "python",
   "sourceType": "notebook"
  },
  "kernelspec": {
   "display_name": ".venv",
   "language": "python",
   "name": "python3"
  },
  "language_info": {
   "codemirror_mode": {
    "name": "ipython",
    "version": 3
   },
   "file_extension": ".py",
   "mimetype": "text/x-python",
   "name": "python",
   "nbconvert_exporter": "python",
   "pygments_lexer": "ipython3",
   "version": "3.12.8"
  }
 },
 "nbformat": 4,
 "nbformat_minor": 4
}
