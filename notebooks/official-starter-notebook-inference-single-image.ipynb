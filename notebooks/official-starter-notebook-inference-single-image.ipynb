{
 "cells": [
  {
   "cell_type": "markdown",
   "metadata": {},
   "source": "## Introduction\nThe purpose of this notebook is to show how to load the Dinov2 finetunes model provided by the organisers of the PlantCLEF2025 competition and infer on a random test image."
  },
  {
   "cell_type": "markdown",
   "metadata": {},
   "source": "Import libraries"
  },
  {
   "cell_type": "code",
   "execution_count": null,
   "metadata": {
    "_cell_guid": "b1076dfc-b9ad-4769-8c92-a6c4dae69d19",
    "_uuid": "8f2839f25d086af736a60e9eeb907d3b93b6e0e5",
    "execution": {
     "iopub.execute_input": "2025-03-11T13:33:26.783905Z",
     "iopub.status.busy": "2025-03-11T13:33:26.783566Z",
     "iopub.status.idle": "2025-03-11T13:33:26.787792Z",
     "shell.execute_reply": "2025-03-11T13:33:26.786902Z",
     "shell.execute_reply.started": "2025-03-11T13:33:26.783873Z"
    },
    "trusted": true
   },
   "outputs": [],
   "source": [
    "import numpy as np\n",
    "import pandas as pd\n",
    "import os\n",
    "from PIL import Image\n",
    "import matplotlib.pyplot as plt\n",
    "import timm\n",
    "import torch"
   ]
  },
  {
   "cell_type": "code",
   "execution_count": null,
   "metadata": {
    "execution": {
     "iopub.execute_input": "2025-03-11T13:33:26.936252Z",
     "iopub.status.busy": "2025-03-11T13:33:26.935997Z",
     "iopub.status.idle": "2025-03-11T13:33:37.722010Z",
     "shell.execute_reply": "2025-03-11T13:33:37.721128Z",
     "shell.execute_reply.started": "2025-03-11T13:33:26.936231Z"
    },
    "trusted": true
   },
   "outputs": [],
   "source": [
    "df_species_ids = pd.read_csv(\"/kaggle/input/plantclef-2025/species_ids.csv\")\n",
    "df_metadata = pd.read_csv(\n",
    "    \"/kaggle/input/plantclef-2025/PlantCLEF2024_single_plant_training_metadata.csv\",\n",
    "    sep=\";\",\n",
    "    dtype={\"partner\": str},\n",
    ")\n",
    "id_to_species = (\n",
    "    df_metadata[[\"species_id\", \"species\"]].drop_duplicates().set_index(\"species_id\")\n",
    ")"
   ]
  },
  {
   "cell_type": "markdown",
   "metadata": {},
   "source": "Load random image"
  },
  {
   "cell_type": "code",
   "execution_count": null,
   "metadata": {
    "execution": {
     "iopub.execute_input": "2025-03-11T13:33:37.723705Z",
     "iopub.status.busy": "2025-03-11T13:33:37.723400Z",
     "iopub.status.idle": "2025-03-11T13:33:38.401097Z",
     "shell.execute_reply": "2025-03-11T13:33:38.400182Z",
     "shell.execute_reply.started": "2025-03-11T13:33:37.723672Z"
    },
    "trusted": true
   },
   "outputs": [],
   "source": [
    "img = Image.open(\n",
    "    \"/kaggle/input/plantclef-2025/PlantCLEF2025_test_images/PlantCLEF2025_test_images/GUARDEN-CBNMed-30-4-16-3-20240428.jpg\"\n",
    ")\n",
    "plt.imshow(img)\n",
    "plt.axis(\"off\")\n",
    "plt.show()"
   ]
  },
  {
   "cell_type": "code",
   "execution_count": null,
   "metadata": {
    "execution": {
     "iopub.execute_input": "2025-03-11T13:33:38.402966Z",
     "iopub.status.busy": "2025-03-11T13:33:38.402663Z",
     "iopub.status.idle": "2025-03-11T13:33:38.408191Z",
     "shell.execute_reply": "2025-03-11T13:33:38.407358Z",
     "shell.execute_reply.started": "2025-03-11T13:33:38.402938Z"
    },
    "trusted": true
   },
   "outputs": [],
   "source": [
    "img.size"
   ]
  },
  {
   "cell_type": "markdown",
   "metadata": {},
   "source": "Load model"
  },
  {
   "cell_type": "code",
   "execution_count": null,
   "metadata": {
    "execution": {
     "iopub.execute_input": "2025-03-11T13:33:38.409494Z",
     "iopub.status.busy": "2025-03-11T13:33:38.409192Z",
     "iopub.status.idle": "2025-03-11T13:33:40.595420Z",
     "shell.execute_reply": "2025-03-11T13:33:40.594770Z",
     "shell.execute_reply.started": "2025-03-11T13:33:38.409463Z"
    },
    "trusted": true
   },
   "outputs": [],
   "source": [
    "device = torch.device(\"cuda\")\n",
    "model = timm.create_model(\n",
    "    \"vit_base_patch14_reg4_dinov2.lvd142m\",\n",
    "    pretrained=False,\n",
    "    num_classes=len(df_species_ids),\n",
    "    checkpoint_path=\"/kaggle/input/dinov2_patch14_reg4_onlyclassifier_then_all/pytorch/default/3/model_best.pth.tar\",\n",
    ")\n",
    "model = model.to(device)\n",
    "model = model.eval()"
   ]
  },
  {
   "cell_type": "markdown",
   "metadata": {},
   "source": "Print the top 5 scores."
  },
  {
   "cell_type": "code",
   "execution_count": null,
   "metadata": {
    "execution": {
     "iopub.execute_input": "2025-03-11T13:33:40.596298Z",
     "iopub.status.busy": "2025-03-11T13:33:40.596095Z",
     "iopub.status.idle": "2025-03-11T13:33:40.813057Z",
     "shell.execute_reply": "2025-03-11T13:33:40.811838Z",
     "shell.execute_reply.started": "2025-03-11T13:33:40.596279Z"
    },
    "trusted": true
   },
   "outputs": [],
   "source": [
    "# get model specific transforms (normalization, resize)\n",
    "data_config = timm.data.resolve_model_data_config(model)\n",
    "transforms = timm.data.create_transform(**data_config, is_training=False)\n",
    "\n",
    "with torch.no_grad():\n",
    "    if img != None:\n",
    "        img = transforms(img).unsqueeze(0)\n",
    "        img = img.to(device)\n",
    "        output = model(img)  # unsqueeze single image into batch of 1\n",
    "        top5_probabilities, top5_class_indices = torch.topk(output.softmax(dim=1), k=5)\n",
    "        top5_probabilities = top5_probabilities.cpu().detach().numpy()\n",
    "        top5_class_indices = top5_class_indices.cpu().detach().numpy()\n",
    "\n",
    "        for proba, cid in zip(top5_probabilities[0], top5_class_indices[0]):\n",
    "            species_id = df_species_ids.iloc[cid].item()\n",
    "            species = id_to_species.loc[species_id].item()\n",
    "            print(species_id, species, proba)"
   ]
  },
  {
   "cell_type": "markdown",
   "metadata": {},
   "source": "As observed from the predictions, since the model is trained on a mono-label dataset, two predicted species could both be present in the quadrat, or the model might be uncertain between them."
  }
 ],
 "metadata": {
  "kaggle": {
   "accelerator": "none",
   "dataSources": [
    {
     "databundleVersionId": 11256103,
     "sourceId": 89850,
     "sourceType": "competition"
    },
    {
     "modelId": 216938,
     "modelInstanceId": 195042,
     "sourceId": 228781,
     "sourceType": "modelInstanceVersion"
    }
   ],
   "dockerImageVersionId": 30823,
   "isGpuEnabled": false,
   "isInternetEnabled": true,
   "language": "python",
   "sourceType": "notebook"
  },
  "kernelspec": {
   "display_name": "Python 3",
   "language": "python",
   "name": "python3"
  },
  "language_info": {
   "codemirror_mode": {
    "name": "ipython",
    "version": 3
   },
   "file_extension": ".py",
   "mimetype": "text/x-python",
   "name": "python",
   "nbconvert_exporter": "python",
   "pygments_lexer": "ipython3",
   "version": "3.10.12"
  }
 },
 "nbformat": 4,
 "nbformat_minor": 4
}
