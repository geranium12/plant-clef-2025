{
 "cells": [
  {
   "cell_type": "code",
   "execution_count": null,
   "id": "c1346718",
   "metadata": {},
   "outputs": [],
   "source": [
    "import os\n",
    "import numpy as np\n",
    "from numpy.typing import ArrayLike\n",
    "import pandas as pd\n",
    "import csv"
   ]
  },
  {
   "cell_type": "code",
   "execution_count": null,
   "id": "885fce70",
   "metadata": {},
   "outputs": [],
   "source": [
    "TARGET_MEAN_PREDICTION_LENGTH = 5.0\n",
    "MIN_MIN_SCORE, MAX_MIN_SCORE = 0.001, 1.0"
   ]
  },
  {
   "cell_type": "code",
   "execution_count": null,
   "id": "eeeab840",
   "metadata": {},
   "outputs": [],
   "source": [
    "# Directory containing the .npy files\n",
    "directories = [\n",
    "'./predictions/probabilities_submission_5h1l_tile_4_5_overlaps_0_0_use_gf_crop_010',\n",
    "'./predictions/probabilities_submission_hydra_5h1l_s_5h2l_gf_tile_45_00_usegf_crop10',\n",
    "]\n",
    "\n",
    "all_quadrat_probs: list[dict[str, ArrayLike]] = []\n",
    "\n",
    "for directory in directories:\n",
    "    # List to store the loaded data\n",
    "    quadrat_probs: dict[str, ArrayLike] = {}\n",
    "\n",
    "    # Iterate through all files in the directory\n",
    "    for filename in os.listdir(directory):\n",
    "        if filename.endswith('.npy'):\n",
    "            file_path = os.path.join(directory, filename)\n",
    "            quadrat_id = filename.split('.')[0]\n",
    "            tile_probabilities = np.load(file_path)\n",
    "\n",
    "            quadrat_probs[quadrat_id] = tile_probabilities\n",
    "\n",
    "    all_quadrat_probs.append(quadrat_probs)"
   ]
  },
  {
   "cell_type": "code",
   "execution_count": null,
   "id": "1427df5c",
   "metadata": {},
   "outputs": [],
   "source": [
    "from src import data\n",
    "\n",
    "plant_data_image_info, rare_species = data.get_plant_data_image_info(\n",
    "    os.path.join(\n",
    "        \"/mnt/storage1/shared_data/plant_clef_2025/\",\n",
    "        \"data/\",\n",
    "        \"plant_clef_train_281gb/\",\n",
    "    ),\n",
    ")\n",
    "\n",
    "species_id_to_index = {\n",
    "            sid: idx\n",
    "            for idx, sid in enumerate(\n",
    "                sorted({info.species_id for info in plant_data_image_info})\n",
    "            )\n",
    "        }\n",
    "species_index_to_id = {idx: sid for sid, idx in species_id_to_index.items()}"
   ]
  },
  {
   "cell_type": "code",
   "execution_count": null,
   "id": "4dc871a5",
   "metadata": {},
   "outputs": [],
   "source": [
    "def mean_prediction_length(image_predictions: dict[str, list[int]]) -> float:\n",
    "    lengths = [len(predictions) for predictions in image_predictions.values()]\n",
    "    return np.mean(lengths)"
   ]
  },
  {
   "cell_type": "code",
   "execution_count": null,
   "id": "a1aaa4d9",
   "metadata": {},
   "outputs": [],
   "source": [
    "assert all(quadrat_probs.keys() == all_quadrat_probs[0].keys() for quadrat_probs in all_quadrat_probs[1:]), \"All quadrat probabilities should have the same keys\"\n",
    "\n",
    "quadrat_probs = {quadrat_id: sum([quadrat_prob[quadrat_id] / len(all_quadrat_probs) for quadrat_prob in all_quadrat_probs]) for quadrat_id in all_quadrat_probs[0].keys()}\n",
    "\n",
    "def make_prediction(min_probability: float) -> dict[str, list[int]]:\n",
    "    image_predictions: dict[str, list[int]] = {}\n",
    "\n",
    "    for quadrat_id, tile_probabilities in quadrat_probs.items():\n",
    "        top_species = set()\n",
    "        for _, tile_probs in enumerate(tile_probabilities):\n",
    "            max_index = tile_probs.argmax()\n",
    "            if tile_probs[max_index] < min_probability: continue\n",
    "            top_species.add(max_index)\n",
    "        image_predictions[quadrat_id] = list(top_species)\n",
    "        if len(image_predictions[quadrat_id]) == 0:\n",
    "            column_sums = np.sum(tile_probabilities, axis=0)\n",
    "            image_predictions[quadrat_id] = [column_sums.argmax()]\n",
    "\n",
    "    return image_predictions"
   ]
  },
  {
   "cell_type": "code",
   "execution_count": null,
   "id": "e52a17f2",
   "metadata": {},
   "outputs": [],
   "source": [
    "bound = (MAX_MIN_SCORE, mean_prediction_length(make_prediction(MAX_MIN_SCORE))), (MIN_MIN_SCORE, mean_prediction_length(make_prediction(MIN_MIN_SCORE)))\n",
    "\n",
    "assert bound[0][1] < TARGET_MEAN_PREDICTION_LENGTH < bound[1][1], f\"Target mean prediction length {TARGET_MEAN_PREDICTION_LENGTH} is not between the bounds {bound[0][1]} and {bound[1][1]}\"\n",
    "\n",
    "for _ in range(50):\n",
    "    mean_score = (bound[0][0] + bound[1][0]) / 2\n",
    "    image_predictions = make_prediction(mean_score)\n",
    "    mean_length = mean_prediction_length(image_predictions)\n",
    "    if mean_length < TARGET_MEAN_PREDICTION_LENGTH:\n",
    "        bound = ((mean_score, mean_length), bound[1])\n",
    "    else:\n",
    "        bound = (bound[0], (mean_score, mean_length))\n",
    "    if mean_length == TARGET_MEAN_PREDICTION_LENGTH:\n",
    "        break\n",
    "    print(bound)\n",
    "\n",
    "image_predictions = make_prediction(bound[0][0] if abs(bound[0][1] - TARGET_MEAN_PREDICTION_LENGTH) < abs(bound[1][1] - TARGET_MEAN_PREDICTION_LENGTH) else bound[1][0])\n",
    "\n",
    "print(mean_prediction_length(image_predictions))"
   ]
  },
  {
   "cell_type": "code",
   "execution_count": null,
   "id": "cb6a5854",
   "metadata": {},
   "outputs": [],
   "source": [
    "for quadrat_id in image_predictions.keys():\n",
    "    image_predictions[quadrat_id] = [\n",
    "        species_index_to_id[idx] for idx in image_predictions[quadrat_id]\n",
    "    ]"
   ]
  },
  {
   "cell_type": "code",
   "execution_count": null,
   "id": "ad7f5108",
   "metadata": {},
   "outputs": [],
   "source": [
    "df_run = pd.DataFrame(\n",
    "    list(image_predictions.items()),\n",
    "    columns=[\n",
    "        \"quadrat_id\",\n",
    "        \"species_ids\",\n",
    "    ],\n",
    ")\n",
    "df_run[\"species_ids\"] = df_run[\"species_ids\"].apply(str)\n",
    "df_run.to_csv(\n",
    "    \"./predictions/submission.csv\",\n",
    "    sep=\",\",\n",
    "    index=False,\n",
    "    quoting=csv.QUOTE_ALL,\n",
    ")"
   ]
  }
 ],
 "metadata": {
  "kernelspec": {
   "display_name": ".venv",
   "language": "python",
   "name": "python3"
  },
  "language_info": {
   "codemirror_mode": {
    "name": "ipython",
    "version": 3
   },
   "file_extension": ".py",
   "mimetype": "text/x-python",
   "name": "python",
   "nbconvert_exporter": "python",
   "pygments_lexer": "ipython3",
   "version": "3.12.9"
  }
 },
 "nbformat": 4,
 "nbformat_minor": 5
}
