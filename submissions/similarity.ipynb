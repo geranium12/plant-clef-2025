{
 "cells": [
  {
   "cell_type": "code",
   "execution_count": null,
   "id": "9fc73fc7",
   "metadata": {},
   "outputs": [],
   "source": [
    "submission_files = [\n",
    "    \"./data/submission_5h1l_tile_4_5_overlaps_0_0_topk_1_minscore_002_topn_10_use_gf_crop_010.csv\",\n",
    "    \"./data/submission_5h1l_tile_4_5_overlaps_0_0_topk_1_minscore_0015_topn_10_use_gf_crop_010.csv\",\n",
    "]\n",
    "\n",
    "assert len(submission_files) == 2"
   ]
  },
  {
   "cell_type": "code",
   "execution_count": null,
   "id": "83b3701c",
   "metadata": {},
   "outputs": [],
   "source": [
    "from collections import defaultdict\n",
    "import csv\n",
    "import pandas as pd\n",
    "import ast\n",
    "\n",
    "# Load submission files into DataFrames\n",
    "dfs = [\n",
    "    pd.read_csv(file, converters={\"species_ids\": ast.literal_eval})\n",
    "    for file in submission_files\n",
    "]"
   ]
  },
  {
   "cell_type": "code",
   "execution_count": null,
   "id": "c48d29c0",
   "metadata": {},
   "outputs": [],
   "source": [
    "predictions: dict[str, list[list[int]]] = defaultdict(list)\n",
    "for df in dfs:\n",
    "    for quadrat_id, species_ids in zip(df[\"quadrat_id\"], df[\"species_ids\"]):\n",
    "        predictions[quadrat_id].append(species_ids)"
   ]
  },
  {
   "cell_type": "code",
   "execution_count": null,
   "id": "5c588e87",
   "metadata": {},
   "outputs": [],
   "source": [
    "from sklearn.metrics.pairwise import cosine_similarity\n",
    "import numpy as np\n",
    "\n",
    "similarities: dict[str, float] = {}\n",
    "for quadrat_id, species_ids_list in predictions.items():\n",
    "    assert len(species_ids_list) == 2\n",
    "    lhs_species_ids, rhs_species_ids = species_ids_list\n",
    "\n",
    "    # Convert species IDs to binary vectors\n",
    "    all_species = list(set(lhs_species_ids + rhs_species_ids))\n",
    "    lhs_vector = np.array([1 if species in lhs_species_ids else 0 for species in all_species])\n",
    "    rhs_vector = np.array([1 if species in rhs_species_ids else 0 for species in all_species])\n",
    "\n",
    "    # Compute cosine similarity\n",
    "    similarity = cosine_similarity([lhs_vector], [rhs_vector])[0][0]\n",
    "    similarities[quadrat_id] = similarity"
   ]
  },
  {
   "cell_type": "code",
   "execution_count": null,
   "id": "8e55dfe3",
   "metadata": {},
   "outputs": [],
   "source": [
    "# Compute and print statistics about the similarities\n",
    "import statistics\n",
    "\n",
    "mean_similarity = statistics.mean(similarities.values())\n",
    "median_similarity = statistics.median(similarities.values())\n",
    "min_similarity = min(similarities.values())\n",
    "max_similarity = max(similarities.values())\n",
    "variance_similarity = statistics.variance(similarities.values())\n",
    "stdev_similarity = statistics.stdev(similarities.values())\n",
    "\n",
    "# Compute interquartile range (IQR)\n",
    "sorted_similarities = sorted(similarities.values())\n",
    "q1 = sorted_similarities[len(sorted_similarities) // 4]\n",
    "q3 = sorted_similarities[3 * len(sorted_similarities) // 4]\n",
    "iqr_similarity = q3 - q1\n",
    "\n",
    "print(f\"Mean Similarity: {mean_similarity}\")\n",
    "print(f\"Median Similarity: {median_similarity}\")\n",
    "print(f\"Min Similarity: {min_similarity}\")\n",
    "print(f\"Max Similarity: {max_similarity}\")\n",
    "print(f\"Variance: {variance_similarity}\")\n",
    "print(f\"Standard Deviation: {stdev_similarity}\")\n",
    "print(f\"Interquartile Range (IQR): {iqr_similarity}\")"
   ]
  }
 ],
 "metadata": {
  "kernelspec": {
   "display_name": ".venv",
   "language": "python",
   "name": "python3"
  },
  "language_info": {
   "codemirror_mode": {
    "name": "ipython",
    "version": 3
   },
   "file_extension": ".py",
   "mimetype": "text/x-python",
   "name": "python",
   "nbconvert_exporter": "python",
   "pygments_lexer": "ipython3",
   "version": "3.12.9"
  }
 },
 "nbformat": 4,
 "nbformat_minor": 5
}
